{
 "cells": [
  {
   "cell_type": "code",
   "execution_count": 70,
   "metadata": {},
   "outputs": [],
   "source": [
    "import numpy as np"
   ]
  },
  {
   "cell_type": "code",
   "execution_count": 71,
   "metadata": {},
   "outputs": [
    {
     "name": "stdout",
     "output_type": "stream",
     "text": [
      "<class 'numpy.ndarray'>\n",
      "(3,)\n",
      "0\n",
      "1\n",
      "2\n",
      "[10  1  2]\n"
     ]
    }
   ],
   "source": [
    "a = np.array([0, 1, 2])\n",
    "print(type(a))\n",
    "print(a.shape)\n",
    "print(a[0])\n",
    "print(a[1])\n",
    "print(a[2])\n",
    "a[0]= 10\n",
    "print(a)"
   ]
  },
  {
   "cell_type": "code",
   "execution_count": 72,
   "metadata": {},
   "outputs": [
    {
     "name": "stdout",
     "output_type": "stream",
     "text": [
      "(2, 3)\n",
      "[[0 1 2]\n",
      " [3 4 5]]\n",
      "0 1 3\n"
     ]
    }
   ],
   "source": [
    "b = np.array([[0,1,2],[3,4,5]])\n",
    "print(b.shape)\n",
    "print(b)\n",
    "print(b[0,0],b[0,1],b[1,0])"
   ]
  },
  {
   "cell_type": "code",
   "execution_count": 73,
   "metadata": {},
   "outputs": [
    {
     "name": "stdout",
     "output_type": "stream",
     "text": [
      "[[0. 0. 0.]\n",
      " [0. 0. 0.]\n",
      " [0. 0. 0.]]\n"
     ]
    }
   ],
   "source": [
    "a =np.zeros((3,3))\n",
    "print(a)"
   ]
  },
  {
   "cell_type": "code",
   "execution_count": 74,
   "metadata": {},
   "outputs": [
    {
     "name": "stdout",
     "output_type": "stream",
     "text": [
      "[[1. 1.]\n",
      " [1. 1.]]\n"
     ]
    }
   ],
   "source": [
    "b=np.ones((2,2))\n",
    "print(b)"
   ]
  },
  {
   "cell_type": "code",
   "execution_count": 75,
   "metadata": {},
   "outputs": [
    {
     "name": "stdout",
     "output_type": "stream",
     "text": [
      "[[7 7 7]\n",
      " [7 7 7]\n",
      " [7 7 7]]\n"
     ]
    }
   ],
   "source": [
    "c=np.full((3,3), 7)\n",
    "print(c)"
   ]
  },
  {
   "cell_type": "code",
   "execution_count": 76,
   "metadata": {},
   "outputs": [
    {
     "name": "stdout",
     "output_type": "stream",
     "text": [
      "[[0.6898546  0.95938169 0.2811165 ]\n",
      " [0.20445493 0.53949755 0.09161594]\n",
      " [0.60743329 0.81131694 0.31902395]]\n"
     ]
    }
   ],
   "source": [
    "d=np.random.random((3,3))\n",
    "print(d)"
   ]
  },
  {
   "cell_type": "code",
   "execution_count": 77,
   "metadata": {},
   "outputs": [
    {
     "name": "stdout",
     "output_type": "stream",
     "text": [
      "[[1. 0. 0.]\n",
      " [0. 1. 0.]\n",
      " [0. 0. 1.]]\n"
     ]
    }
   ],
   "source": [
    "e =np.eye(3)\n",
    "print(e)"
   ]
  },
  {
   "cell_type": "code",
   "execution_count": 78,
   "metadata": {},
   "outputs": [
    {
     "name": "stdout",
     "output_type": "stream",
     "text": [
      "[2 3 1 0]\n"
     ]
    }
   ],
   "source": [
    "f =np.array([2, 3, 1, 0])\n",
    "print(f)"
   ]
  },
  {
   "cell_type": "code",
   "execution_count": 79,
   "metadata": {},
   "outputs": [
    {
     "name": "stdout",
     "output_type": "stream",
     "text": [
      "[2 3 4 5 6 7 8 9]\n"
     ]
    }
   ],
   "source": [
    "g =np.arange(2,10)\n",
    "print(g)"
   ]
  },
  {
   "cell_type": "code",
   "execution_count": 80,
   "metadata": {},
   "outputs": [
    {
     "name": "stdout",
     "output_type": "stream",
     "text": [
      "[[0.+0.j 1.+0.j 2.+0.j]\n",
      " [0.+0.j 0.+0.j 0.+0.j]\n",
      " [1.+1.j 3.+0.j 2.+0.j]]\n"
     ]
    }
   ],
   "source": [
    "h =np.array([[0,1,2.0],[0,0,0],(1+1j,3.,2.)])\n",
    "print(h)"
   ]
  },
  {
   "cell_type": "code",
   "execution_count": 81,
   "metadata": {},
   "outputs": [
    {
     "name": "stdout",
     "output_type": "stream",
     "text": [
      "[1. 2. 3. 4. 5. 6. 7.]\n"
     ]
    }
   ],
   "source": [
    "i =np.arange(1,8,dtype=np.float)\n",
    "print(i)"
   ]
  },
  {
   "cell_type": "code",
   "execution_count": 82,
   "metadata": {},
   "outputs": [
    {
     "name": "stdout",
     "output_type": "stream",
     "text": [
      "[2.  2.5 3.  3.5 4. ]\n"
     ]
    }
   ],
   "source": [
    "j =np.linspace(2., 4., 5)\n",
    "print(j)"
   ]
  },
  {
   "cell_type": "code",
   "execution_count": 83,
   "metadata": {},
   "outputs": [
    {
     "data": {
      "text/plain": [
       "5"
      ]
     },
     "execution_count": 83,
     "metadata": {},
     "output_type": "execute_result"
    }
   ],
   "source": [
    "len(j)"
   ]
  },
  {
   "cell_type": "code",
   "execution_count": 84,
   "metadata": {},
   "outputs": [
    {
     "name": "stdout",
     "output_type": "stream",
     "text": [
      "[[[0 0 0]\n",
      "  [1 1 1]\n",
      "  [2 2 2]]\n",
      "\n",
      " [[0 1 2]\n",
      "  [0 1 2]\n",
      "  [0 1 2]]]\n"
     ]
    }
   ],
   "source": [
    "k =np.indices((3,3))\n",
    "print(k)"
   ]
  },
  {
   "cell_type": "code",
   "execution_count": 85,
   "metadata": {},
   "outputs": [
    {
     "name": "stdout",
     "output_type": "stream",
     "text": [
      "int32 float64 int64\n"
     ]
    }
   ],
   "source": [
    "x = np.array([0, 1])\n",
    "y = np.array([2.0, 3.0])\n",
    "z = np.array([5, 6], dtype=np.int64)\n",
    "print(x.dtype, y.dtype, z.dtype)"
   ]
  },
  {
   "cell_type": "code",
   "execution_count": 86,
   "metadata": {},
   "outputs": [
    {
     "name": "stdout",
     "output_type": "stream",
     "text": [
      "[6 8]\n",
      "[8 9]\n",
      "[9 8 7]\n"
     ]
    }
   ],
   "source": [
    "x = np.array([5, 6, 7, 8, 9])\n",
    "print(x[1:7:2])\n",
    "print(x[-2:5])\n",
    "print(x[-1:1:-1])"
   ]
  },
  {
   "cell_type": "code",
   "execution_count": 87,
   "metadata": {},
   "outputs": [
    {
     "name": "stdout",
     "output_type": "stream",
     "text": [
      "[[False False]\n",
      " [ True  True]\n",
      " [ True  True]]\n",
      "[3 4 5 6]\n"
     ]
    }
   ],
   "source": [
    "a=np.array([[1,2], [3, 4], [5, 6]])\n",
    "print (a > 2)\n",
    "print (a[a > 2])"
   ]
  },
  {
   "cell_type": "code",
   "execution_count": 88,
   "metadata": {},
   "outputs": [
    {
     "name": "stdout",
     "output_type": "stream",
     "text": [
      "[[ 8 10]\n",
      " [12 14]\n",
      " [16 18]]\n",
      "[[ 8 10]\n",
      " [12 14]\n",
      " [16 18]]\n",
      "[[-6 -6]\n",
      " [-6 -6]\n",
      " [-6 -6]]\n",
      "[[-6 -6]\n",
      " [-6 -6]\n",
      " [-6 -6]]\n"
     ]
    }
   ],
   "source": [
    "x=np.array([[1,2],[3,4],[5,6]])\n",
    "y=np.array([[7,8],[9,10],[11,12]])\n",
    "print(x+y)\n",
    "print(np.add(x, y))\n",
    "print(x-y)\n",
    "print(np.subtract(x, y))"
   ]
  },
  {
   "cell_type": "code",
   "execution_count": 89,
   "metadata": {},
   "outputs": [
    {
     "name": "stdout",
     "output_type": "stream",
     "text": [
      "[[ 7 16]\n",
      " [27 40]\n",
      " [55 72]]\n",
      "[[ 7 16]\n",
      " [27 40]\n",
      " [55 72]]\n"
     ]
    }
   ],
   "source": [
    "print(x*y)\n",
    "print(np.multiply(x, y))"
   ]
  },
  {
   "cell_type": "code",
   "execution_count": 90,
   "metadata": {},
   "outputs": [
    {
     "name": "stdout",
     "output_type": "stream",
     "text": [
      "[[0.14285714 0.25      ]\n",
      " [0.33333333 0.4       ]\n",
      " [0.45454545 0.5       ]]\n",
      "[[0.14285714 0.25      ]\n",
      " [0.33333333 0.4       ]\n",
      " [0.45454545 0.5       ]]\n"
     ]
    }
   ],
   "source": [
    "print(x/y)\n",
    "print(np.divide(x,y))"
   ]
  },
  {
   "cell_type": "code",
   "execution_count": 91,
   "metadata": {},
   "outputs": [
    {
     "name": "stdout",
     "output_type": "stream",
     "text": [
      "[[1.         1.41421356]\n",
      " [1.73205081 2.        ]\n",
      " [2.23606798 2.44948974]]\n"
     ]
    }
   ],
   "source": [
    "\n",
    "print(np.sqrt(x))"
   ]
  },
  {
   "cell_type": "code",
   "execution_count": 92,
   "metadata": {},
   "outputs": [
    {
     "name": "stdout",
     "output_type": "stream",
     "text": [
      "219\n",
      "219\n"
     ]
    }
   ],
   "source": [
    "a=np.array([9,10])\n",
    "b=np.array([11, 12])\n",
    "print(a.dot(b))\n",
    "print(np.dot(a, b))"
   ]
  },
  {
   "cell_type": "code",
   "execution_count": 93,
   "metadata": {},
   "outputs": [
    {
     "name": "stdout",
     "output_type": "stream",
     "text": [
      "[29 67]\n",
      "[29 67]\n"
     ]
    }
   ],
   "source": [
    "x=np.array([[1,2],[3,4]])\n",
    "print(x.dot(a))\n",
    "print(np.dot(x, a))"
   ]
  },
  {
   "cell_type": "code",
   "execution_count": 94,
   "metadata": {},
   "outputs": [
    {
     "name": "stdout",
     "output_type": "stream",
     "text": [
      "[[19 22]\n",
      " [43 50]]\n",
      "[[19 22]\n",
      " [43 50]]\n"
     ]
    }
   ],
   "source": [
    "y=np.array([[5,6],[7,8]])\n",
    "print(x.dot(y))\n",
    "print(np.dot(x, y))"
   ]
  },
  {
   "cell_type": "code",
   "execution_count": 95,
   "metadata": {},
   "outputs": [
    {
     "name": "stdout",
     "output_type": "stream",
     "text": [
      "[[1 2]\n",
      " [3 4]]\n",
      "[[1 3]\n",
      " [2 4]]\n"
     ]
    }
   ],
   "source": [
    "x=np.array([[1,2], [3,4]])\n",
    "print(x)\n",
    "print(x.T)"
   ]
  },
  {
   "cell_type": "code",
   "execution_count": 96,
   "metadata": {},
   "outputs": [
    {
     "name": "stdout",
     "output_type": "stream",
     "text": [
      "[1 2 3]\n",
      "[1 2 3]\n"
     ]
    }
   ],
   "source": [
    "v=np.array([1,2,3])\n",
    "print(v)\n",
    "print(v.T)"
   ]
  },
  {
   "cell_type": "code",
   "execution_count": 97,
   "metadata": {},
   "outputs": [
    {
     "name": "stdout",
     "output_type": "stream",
     "text": [
      "[[ 2  2  4]\n",
      " [ 5  5  7]\n",
      " [ 8  8 10]]\n"
     ]
    }
   ],
   "source": [
    "a = np.array([[1,2,3], [4,5,6], [7,8,9]])\n",
    "v = np.array([1, 0, 1])\n",
    "b = a + v\n",
    "print(b)"
   ]
  },
  {
   "cell_type": "code",
   "execution_count": 98,
   "metadata": {},
   "outputs": [
    {
     "name": "stdout",
     "output_type": "stream",
     "text": [
      "X.T:\n",
      " [[1 3]\n",
      " [2 4]\n",
      " [1 1]]\n",
      "W:\n",
      " [1 1]\n",
      "Final:\n",
      " [[2 3 2]\n",
      " [4 5 2]]\n"
     ]
    }
   ],
   "source": [
    "x=np.array([[1,2,1], [3,4,1]])\n",
    "print(\"X.T:\\n\",x.T)\n",
    "w= np.array([1,1])\n",
    "print(\"W:\\n\",w)\n",
    "print(\"Final:\\n\",(x.T + w).T)"
   ]
  },
  {
   "cell_type": "code",
   "execution_count": 99,
   "metadata": {},
   "outputs": [
    {
     "name": "stdout",
     "output_type": "stream",
     "text": [
      "[[2 4 2]\n",
      " [6 8 2]]\n"
     ]
    }
   ],
   "source": [
    "print(x * 2)"
   ]
  },
  {
   "cell_type": "code",
   "execution_count": 100,
   "metadata": {},
   "outputs": [],
   "source": [
    "import pandas as pd"
   ]
  },
  {
   "cell_type": "code",
   "execution_count": 101,
   "metadata": {},
   "outputs": [
    {
     "name": "stdout",
     "output_type": "stream",
     "text": [
      "A    1.0\n",
      "B    2.0\n",
      "C    3.0\n",
      "D    NaN\n",
      "E    5.0\n",
      "F    6.0\n",
      "dtype: float64\n"
     ]
    }
   ],
   "source": [
    "s=pd.Series([1,2,3,np.nan,5,6],index=['A','B','C','D','E','F'])\n",
    "print(s)"
   ]
  },
  {
   "cell_type": "code",
   "execution_count": 102,
   "metadata": {},
   "outputs": [
    {
     "data": {
      "text/html": [
       "<div>\n",
       "<style scoped>\n",
       "    .dataframe tbody tr th:only-of-type {\n",
       "        vertical-align: middle;\n",
       "    }\n",
       "\n",
       "    .dataframe tbody tr th {\n",
       "        vertical-align: top;\n",
       "    }\n",
       "\n",
       "    .dataframe thead th {\n",
       "        text-align: right;\n",
       "    }\n",
       "</style>\n",
       "<table border=\"1\" class=\"dataframe\">\n",
       "  <thead>\n",
       "    <tr style=\"text-align: right;\">\n",
       "      <th></th>\n",
       "      <th>Emp_ID</th>\n",
       "      <th>Gender</th>\n",
       "      <th>Age</th>\n",
       "    </tr>\n",
       "  </thead>\n",
       "  <tbody>\n",
       "    <tr>\n",
       "      <th>0</th>\n",
       "      <td>E01</td>\n",
       "      <td>F</td>\n",
       "      <td>25</td>\n",
       "    </tr>\n",
       "    <tr>\n",
       "      <th>1</th>\n",
       "      <td>E02</td>\n",
       "      <td>M</td>\n",
       "      <td>27</td>\n",
       "    </tr>\n",
       "    <tr>\n",
       "      <th>2</th>\n",
       "      <td>E03</td>\n",
       "      <td>M</td>\n",
       "      <td>25</td>\n",
       "    </tr>\n",
       "  </tbody>\n",
       "</table>\n",
       "</div>"
      ],
      "text/plain": [
       "  Emp_ID Gender  Age\n",
       "0    E01      F   25\n",
       "1    E02      M   27\n",
       "2    E03      M   25"
      ]
     },
     "execution_count": 102,
     "metadata": {},
     "output_type": "execute_result"
    }
   ],
   "source": [
    "data = {'Gender': ['F','M','M'],'Emp_ID': ['E01','E02',\n",
    "'E03'], 'Age': [25,27,25]}\n",
    "df = pd.DataFrame(data,columns=['Emp_ID','Gender', 'Age'])\n",
    "df"
   ]
  },
  {
   "cell_type": "code",
   "execution_count": 103,
   "metadata": {},
   "outputs": [],
   "source": [
    "df = pd.read_csv(\"marks.csv\")"
   ]
  },
  {
   "cell_type": "code",
   "execution_count": 104,
   "metadata": {},
   "outputs": [
    {
     "data": {
      "text/html": [
       "<div>\n",
       "<style scoped>\n",
       "    .dataframe tbody tr th:only-of-type {\n",
       "        vertical-align: middle;\n",
       "    }\n",
       "\n",
       "    .dataframe tbody tr th {\n",
       "        vertical-align: top;\n",
       "    }\n",
       "\n",
       "    .dataframe thead th {\n",
       "        text-align: right;\n",
       "    }\n",
       "</style>\n",
       "<table border=\"1\" class=\"dataframe\">\n",
       "  <thead>\n",
       "    <tr style=\"text-align: right;\">\n",
       "      <th></th>\n",
       "      <th>Name</th>\n",
       "      <th>Marks</th>\n",
       "    </tr>\n",
       "  </thead>\n",
       "  <tbody>\n",
       "    <tr>\n",
       "      <th>0</th>\n",
       "      <td>Akash</td>\n",
       "      <td>30</td>\n",
       "    </tr>\n",
       "    <tr>\n",
       "      <th>1</th>\n",
       "      <td>Ramesh</td>\n",
       "      <td>28</td>\n",
       "    </tr>\n",
       "    <tr>\n",
       "      <th>2</th>\n",
       "      <td>Vignesh</td>\n",
       "      <td>25</td>\n",
       "    </tr>\n",
       "  </tbody>\n",
       "</table>\n",
       "</div>"
      ],
      "text/plain": [
       "      Name  Marks\n",
       "0    Akash     30\n",
       "1   Ramesh     28\n",
       "2  Vignesh     25"
      ]
     },
     "execution_count": 104,
     "metadata": {},
     "output_type": "execute_result"
    }
   ],
   "source": [
    "df"
   ]
  },
  {
   "cell_type": "code",
   "execution_count": 105,
   "metadata": {},
   "outputs": [],
   "source": [
    "df.to_csv('marks1.csv')"
   ]
  },
  {
   "cell_type": "code",
   "execution_count": 106,
   "metadata": {},
   "outputs": [
    {
     "name": "stdout",
     "output_type": "stream",
     "text": [
      "(767, 9)\n",
      "   6  148  72  35    0  33.6  0.627  50  1\n",
      "0  1   85  66  29    0  26.6  0.351  31  0\n",
      "1  8  183  64   0    0  23.3  0.672  32  1\n",
      "2  1   89  66  23   94  28.1  0.167  21  0\n",
      "3  0  137  40  35  168  43.1  2.288  33  1\n",
      "4  5  116  74   0    0  25.6  0.201  30  0\n"
     ]
    }
   ],
   "source": [
    "from numpy import loadtxt\n",
    "from urllib.request import urlopen\n",
    "url = 'https://raw.githubusercontent.com/jbrownlee/Datasets/master/pima-indians-diabetes.data.csv'\n",
    "raw_data = pd.read_csv(urlopen(url))\n",
    "print(raw_data.shape)\n",
    "print(raw_data.head())"
   ]
  },
  {
   "cell_type": "code",
   "execution_count": 107,
   "metadata": {},
   "outputs": [
    {
     "name": "stdout",
     "output_type": "stream",
     "text": [
      "Shape:\n",
      " (150, 4)\n",
      "Head:\n",
      "    Sepal_Length  Sepal_Width  Petal_Length  Petal_Width\n",
      "0           5.1          3.5           1.4          0.2\n",
      "1           4.9          3.0           1.4          0.2\n",
      "2           4.7          3.2           1.3          0.2\n",
      "3           4.6          3.1           1.5          0.2\n",
      "4           5.0          3.6           1.4          0.2\n",
      "Tail:\n",
      "      Sepal_Length  Sepal_Width  Petal_Length  Petal_Width\n",
      "145           6.7          3.0           5.2          2.3\n",
      "146           6.3          2.5           5.0          1.9\n",
      "147           6.5          3.0           5.2          2.0\n",
      "148           6.2          3.4           5.4          2.3\n",
      "149           5.9          3.0           5.1          1.8\n"
     ]
    }
   ],
   "source": [
    "from sklearn.datasets import load_iris\n",
    "import numpy as np\n",
    "iris=load_iris()\n",
    "X = pd.DataFrame(iris.data)\n",
    "X.columns = ['Sepal_Length','Sepal_Width','Petal_Length','Petal_Width']\n",
    "print(\"Shape:\\n\",X.shape)\n",
    "print(\"Head:\\n\",X.head(5))\n",
    "print(\"Tail:\\n\",X.tail(5))"
   ]
  },
  {
   "cell_type": "code",
   "execution_count": 108,
   "metadata": {},
   "outputs": [
    {
     "data": {
      "text/html": [
       "<div>\n",
       "<style scoped>\n",
       "    .dataframe tbody tr th:only-of-type {\n",
       "        vertical-align: middle;\n",
       "    }\n",
       "\n",
       "    .dataframe tbody tr th {\n",
       "        vertical-align: top;\n",
       "    }\n",
       "\n",
       "    .dataframe thead th {\n",
       "        text-align: right;\n",
       "    }\n",
       "</style>\n",
       "<table border=\"1\" class=\"dataframe\">\n",
       "  <thead>\n",
       "    <tr style=\"text-align: right;\">\n",
       "      <th></th>\n",
       "      <th>Sepal_Length</th>\n",
       "      <th>Sepal_Width</th>\n",
       "      <th>Petal_Length</th>\n",
       "      <th>Petal_Width</th>\n",
       "    </tr>\n",
       "  </thead>\n",
       "  <tbody>\n",
       "    <tr>\n",
       "      <th>count</th>\n",
       "      <td>150.000000</td>\n",
       "      <td>150.000000</td>\n",
       "      <td>150.000000</td>\n",
       "      <td>150.000000</td>\n",
       "    </tr>\n",
       "    <tr>\n",
       "      <th>mean</th>\n",
       "      <td>5.843333</td>\n",
       "      <td>3.057333</td>\n",
       "      <td>3.758000</td>\n",
       "      <td>1.199333</td>\n",
       "    </tr>\n",
       "    <tr>\n",
       "      <th>std</th>\n",
       "      <td>0.828066</td>\n",
       "      <td>0.435866</td>\n",
       "      <td>1.765298</td>\n",
       "      <td>0.762238</td>\n",
       "    </tr>\n",
       "    <tr>\n",
       "      <th>min</th>\n",
       "      <td>4.300000</td>\n",
       "      <td>2.000000</td>\n",
       "      <td>1.000000</td>\n",
       "      <td>0.100000</td>\n",
       "    </tr>\n",
       "    <tr>\n",
       "      <th>25%</th>\n",
       "      <td>5.100000</td>\n",
       "      <td>2.800000</td>\n",
       "      <td>1.600000</td>\n",
       "      <td>0.300000</td>\n",
       "    </tr>\n",
       "    <tr>\n",
       "      <th>50%</th>\n",
       "      <td>5.800000</td>\n",
       "      <td>3.000000</td>\n",
       "      <td>4.350000</td>\n",
       "      <td>1.300000</td>\n",
       "    </tr>\n",
       "    <tr>\n",
       "      <th>75%</th>\n",
       "      <td>6.400000</td>\n",
       "      <td>3.300000</td>\n",
       "      <td>5.100000</td>\n",
       "      <td>1.800000</td>\n",
       "    </tr>\n",
       "    <tr>\n",
       "      <th>max</th>\n",
       "      <td>7.900000</td>\n",
       "      <td>4.400000</td>\n",
       "      <td>6.900000</td>\n",
       "      <td>2.500000</td>\n",
       "    </tr>\n",
       "  </tbody>\n",
       "</table>\n",
       "</div>"
      ],
      "text/plain": [
       "       Sepal_Length  Sepal_Width  Petal_Length  Petal_Width\n",
       "count    150.000000   150.000000    150.000000   150.000000\n",
       "mean       5.843333     3.057333      3.758000     1.199333\n",
       "std        0.828066     0.435866      1.765298     0.762238\n",
       "min        4.300000     2.000000      1.000000     0.100000\n",
       "25%        5.100000     2.800000      1.600000     0.300000\n",
       "50%        5.800000     3.000000      4.350000     1.300000\n",
       "75%        6.400000     3.300000      5.100000     1.800000\n",
       "max        7.900000     4.400000      6.900000     2.500000"
      ]
     },
     "execution_count": 108,
     "metadata": {},
     "output_type": "execute_result"
    }
   ],
   "source": [
    "df=pd.DataFrame(iris.data)\n",
    "df.columns=['Sepal_Length','Sepal_Width','Petal_Length','Petal_Width']\n",
    "df.describe()"
   ]
  },
  {
   "cell_type": "code",
   "execution_count": 109,
   "metadata": {},
   "outputs": [
    {
     "data": {
      "text/html": [
       "<div>\n",
       "<style scoped>\n",
       "    .dataframe tbody tr th:only-of-type {\n",
       "        vertical-align: middle;\n",
       "    }\n",
       "\n",
       "    .dataframe tbody tr th {\n",
       "        vertical-align: top;\n",
       "    }\n",
       "\n",
       "    .dataframe thead th {\n",
       "        text-align: right;\n",
       "    }\n",
       "</style>\n",
       "<table border=\"1\" class=\"dataframe\">\n",
       "  <thead>\n",
       "    <tr style=\"text-align: right;\">\n",
       "      <th></th>\n",
       "      <th>Sepal_Length</th>\n",
       "      <th>Sepal_Width</th>\n",
       "      <th>Petal_Length</th>\n",
       "      <th>Petal_Width</th>\n",
       "    </tr>\n",
       "  </thead>\n",
       "  <tbody>\n",
       "    <tr>\n",
       "      <th>Sepal_Length</th>\n",
       "      <td>0.685694</td>\n",
       "      <td>-0.042434</td>\n",
       "      <td>1.274315</td>\n",
       "      <td>0.516271</td>\n",
       "    </tr>\n",
       "    <tr>\n",
       "      <th>Sepal_Width</th>\n",
       "      <td>-0.042434</td>\n",
       "      <td>0.189979</td>\n",
       "      <td>-0.329656</td>\n",
       "      <td>-0.121639</td>\n",
       "    </tr>\n",
       "    <tr>\n",
       "      <th>Petal_Length</th>\n",
       "      <td>1.274315</td>\n",
       "      <td>-0.329656</td>\n",
       "      <td>3.116278</td>\n",
       "      <td>1.295609</td>\n",
       "    </tr>\n",
       "    <tr>\n",
       "      <th>Petal_Width</th>\n",
       "      <td>0.516271</td>\n",
       "      <td>-0.121639</td>\n",
       "      <td>1.295609</td>\n",
       "      <td>0.581006</td>\n",
       "    </tr>\n",
       "  </tbody>\n",
       "</table>\n",
       "</div>"
      ],
      "text/plain": [
       "              Sepal_Length  Sepal_Width  Petal_Length  Petal_Width\n",
       "Sepal_Length      0.685694    -0.042434      1.274315     0.516271\n",
       "Sepal_Width      -0.042434     0.189979     -0.329656    -0.121639\n",
       "Petal_Length      1.274315    -0.329656      3.116278     1.295609\n",
       "Petal_Width       0.516271    -0.121639      1.295609     0.581006"
      ]
     },
     "execution_count": 109,
     "metadata": {},
     "output_type": "execute_result"
    }
   ],
   "source": [
    "df.cov()"
   ]
  },
  {
   "cell_type": "code",
   "execution_count": 110,
   "metadata": {},
   "outputs": [
    {
     "data": {
      "text/html": [
       "<div>\n",
       "<style scoped>\n",
       "    .dataframe tbody tr th:only-of-type {\n",
       "        vertical-align: middle;\n",
       "    }\n",
       "\n",
       "    .dataframe tbody tr th {\n",
       "        vertical-align: top;\n",
       "    }\n",
       "\n",
       "    .dataframe thead th {\n",
       "        text-align: right;\n",
       "    }\n",
       "</style>\n",
       "<table border=\"1\" class=\"dataframe\">\n",
       "  <thead>\n",
       "    <tr style=\"text-align: right;\">\n",
       "      <th></th>\n",
       "      <th>Sepal_Length</th>\n",
       "      <th>Sepal_Width</th>\n",
       "      <th>Petal_Length</th>\n",
       "      <th>Petal_Width</th>\n",
       "    </tr>\n",
       "  </thead>\n",
       "  <tbody>\n",
       "    <tr>\n",
       "      <th>Sepal_Length</th>\n",
       "      <td>1.000000</td>\n",
       "      <td>-0.117570</td>\n",
       "      <td>0.871754</td>\n",
       "      <td>0.817941</td>\n",
       "    </tr>\n",
       "    <tr>\n",
       "      <th>Sepal_Width</th>\n",
       "      <td>-0.117570</td>\n",
       "      <td>1.000000</td>\n",
       "      <td>-0.428440</td>\n",
       "      <td>-0.366126</td>\n",
       "    </tr>\n",
       "    <tr>\n",
       "      <th>Petal_Length</th>\n",
       "      <td>0.871754</td>\n",
       "      <td>-0.428440</td>\n",
       "      <td>1.000000</td>\n",
       "      <td>0.962865</td>\n",
       "    </tr>\n",
       "    <tr>\n",
       "      <th>Petal_Width</th>\n",
       "      <td>0.817941</td>\n",
       "      <td>-0.366126</td>\n",
       "      <td>0.962865</td>\n",
       "      <td>1.000000</td>\n",
       "    </tr>\n",
       "  </tbody>\n",
       "</table>\n",
       "</div>"
      ],
      "text/plain": [
       "              Sepal_Length  Sepal_Width  Petal_Length  Petal_Width\n",
       "Sepal_Length      1.000000    -0.117570      0.871754     0.817941\n",
       "Sepal_Width      -0.117570     1.000000     -0.428440    -0.366126\n",
       "Petal_Length      0.871754    -0.428440      1.000000     0.962865\n",
       "Petal_Width       0.817941    -0.366126      0.962865     1.000000"
      ]
     },
     "execution_count": 110,
     "metadata": {},
     "output_type": "execute_result"
    }
   ],
   "source": [
    "df.corr()"
   ]
  },
  {
   "cell_type": "code",
   "execution_count": 111,
   "metadata": {},
   "outputs": [
    {
     "name": "stdout",
     "output_type": "stream",
     "text": [
      "   Name State Grade        Age       Salary\n",
      "0  jack   SFO     A  37.542398  3848.446069\n",
      "1  jane   SFO     A  38.947134  4195.466697\n",
      "2  jack   NYK     B  33.470655  4782.177152\n",
      "3  jane    CA     A  47.303780  4570.448614\n",
      "4  jack   NYK     C  31.508929  3687.562346\n",
      "5  jane   NYK     B  40.938325  3967.287722\n",
      "6  jack   SFO     C  46.863871  4080.377124\n",
      "7  jane    CA     A  32.415587  3910.296111\n"
     ]
    },
    {
     "data": {
      "text/html": [
       "<div>\n",
       "<style scoped>\n",
       "    .dataframe tbody tr th:only-of-type {\n",
       "        vertical-align: middle;\n",
       "    }\n",
       "\n",
       "    .dataframe tbody tr th {\n",
       "        vertical-align: top;\n",
       "    }\n",
       "\n",
       "    .dataframe thead th {\n",
       "        text-align: right;\n",
       "    }\n",
       "</style>\n",
       "<table border=\"1\" class=\"dataframe\">\n",
       "  <thead>\n",
       "    <tr style=\"text-align: right;\">\n",
       "      <th></th>\n",
       "      <th></th>\n",
       "      <th>Grade</th>\n",
       "      <th>Age</th>\n",
       "      <th>Salary</th>\n",
       "    </tr>\n",
       "    <tr>\n",
       "      <th>Name</th>\n",
       "      <th>State</th>\n",
       "      <th></th>\n",
       "      <th></th>\n",
       "      <th></th>\n",
       "    </tr>\n",
       "  </thead>\n",
       "  <tbody>\n",
       "    <tr>\n",
       "      <th rowspan=\"2\" valign=\"top\">jack</th>\n",
       "      <th>NYK</th>\n",
       "      <td>C</td>\n",
       "      <td>33.470655</td>\n",
       "      <td>4782.177152</td>\n",
       "    </tr>\n",
       "    <tr>\n",
       "      <th>SFO</th>\n",
       "      <td>C</td>\n",
       "      <td>46.863871</td>\n",
       "      <td>4080.377124</td>\n",
       "    </tr>\n",
       "    <tr>\n",
       "      <th rowspan=\"3\" valign=\"top\">jane</th>\n",
       "      <th>CA</th>\n",
       "      <td>A</td>\n",
       "      <td>47.303780</td>\n",
       "      <td>4570.448614</td>\n",
       "    </tr>\n",
       "    <tr>\n",
       "      <th>NYK</th>\n",
       "      <td>B</td>\n",
       "      <td>40.938325</td>\n",
       "      <td>3967.287722</td>\n",
       "    </tr>\n",
       "    <tr>\n",
       "      <th>SFO</th>\n",
       "      <td>A</td>\n",
       "      <td>38.947134</td>\n",
       "      <td>4195.466697</td>\n",
       "    </tr>\n",
       "  </tbody>\n",
       "</table>\n",
       "</div>"
      ],
      "text/plain": [
       "           Grade        Age       Salary\n",
       "Name State                              \n",
       "jack NYK       C  33.470655  4782.177152\n",
       "     SFO       C  46.863871  4080.377124\n",
       "jane CA        A  47.303780  4570.448614\n",
       "     NYK       B  40.938325  3967.287722\n",
       "     SFO       A  38.947134  4195.466697"
      ]
     },
     "execution_count": 111,
     "metadata": {},
     "output_type": "execute_result"
    }
   ],
   "source": [
    "df=pd.DataFrame({'Name' : ['jack', 'jane', 'jack', 'jane', 'jack', 'jane',\n",
    "'jack', 'jane'],'State' : ['SFO', 'SFO', 'NYK', 'CA', 'NYK', 'NYK','SFO', 'CA'],\n",
    "'Grade':['A','A','B','A','C','B','C','A'],\n",
    "'Age' : np.random.uniform(24, 50, size=8),\n",
    "'Salary' : np.random.uniform(3000, 5000, size=8),})\n",
    "print(df)\n",
    "df.groupby(['Name','State']).max()"
   ]
  },
  {
   "cell_type": "code",
   "execution_count": 112,
   "metadata": {},
   "outputs": [],
   "source": [
    "from matplotlib import pyplot as plt"
   ]
  },
  {
   "cell_type": "code",
   "execution_count": 113,
   "metadata": {},
   "outputs": [
    {
     "data": {
      "text/plain": [
       "array([0, 1, 2, 3, 4])"
      ]
     },
     "execution_count": 113,
     "metadata": {},
     "output_type": "execute_result"
    }
   ],
   "source": [
    "x = np.arange(5)\n",
    "x"
   ]
  },
  {
   "cell_type": "code",
   "execution_count": 114,
   "metadata": {},
   "outputs": [
    {
     "data": {
      "text/plain": [
       "<BarContainer object of 5 artists>"
      ]
     },
     "execution_count": 114,
     "metadata": {},
     "output_type": "execute_result"
    },
    {
     "data": {
      "image/png": "[encoded data removed]",
      "text/plain": [
       "<Figure size 432x288 with 1 Axes>"
      ]
     },
     "metadata": {
      "needs_background": "light"
     },
     "output_type": "display_data"
    }
   ],
   "source": [
    "y =(20, 35, 30, 35, 27) \n",
    "plt.bar(x,y)"
   ]
  },
  {
   "cell_type": "code",
   "execution_count": 115,
   "metadata": {},
   "outputs": [
    {
     "data": {
      "text/plain": [
       "<matplotlib.collections.PathCollection at 0x260256f1250>"
      ]
     },
     "execution_count": 115,
     "metadata": {},
     "output_type": "execute_result"
    },
    {
     "data": {
      "image/png": "[encoded data removed]",
      "text/plain": [
       "<Figure size 432x288 with 1 Axes>"
      ]
     },
     "metadata": {
      "needs_background": "light"
     },
     "output_type": "display_data"
    }
   ],
   "source": [
    "\n",
    "plt.scatter(x,y)\n"
   ]
  },
  {
   "cell_type": "code",
   "execution_count": 116,
   "metadata": {},
   "outputs": [
    {
     "name": "stdout",
     "output_type": "stream",
     "text": [
      "Histogram:\n",
      "\n"
     ]
    },
    {
     "data": {
      "image/png": "[encoded data removed]",
      "text/plain": [
       "<Figure size 432x288 with 4 Axes>"
      ]
     },
     "metadata": {
      "needs_background": "light"
     },
     "output_type": "display_data"
    },
    {
     "name": "stdout",
     "output_type": "stream",
     "text": [
      "Line Graph:\n",
      "\n"
     ]
    },
    {
     "data": {
      "text/plain": [
       "<matplotlib.axes._subplots.AxesSubplot at 0x260258fd880>"
      ]
     },
     "execution_count": 116,
     "metadata": {},
     "output_type": "execute_result"
    },
    {
     "data": {
      "image/png": "[encoded data removed]",
      "text/plain": [
       "<Figure size 432x288 with 1 Axes>"
      ]
     },
     "metadata": {
      "needs_background": "light"
     },
     "output_type": "display_data"
    }
   ],
   "source": [
    "df = pd.DataFrame(iris.data)\n",
    "df.columns = ['Sepal_Length','Sepal_Width','Petal_Length','Petal_Width']\n",
    "print(\"Histogram:\\n\")\n",
    "df.hist()\n",
    "plt.show()\n",
    "print(\"Line Graph:\\n\")\n",
    "df.plot()\n",
    "\n",
    "\n",
    "\n"
   ]
  },
  {
   "cell_type": "code",
   "execution_count": 117,
   "metadata": {},
   "outputs": [
    {
     "name": "stdout",
     "output_type": "stream",
     "text": [
      "Box Plot:\n",
      "\n"
     ]
    },
    {
     "data": {
      "image/png": "[encoded data removed]",
      "text/plain": [
       "<Figure size 432x288 with 1 Axes>"
      ]
     },
     "metadata": {
      "needs_background": "light"
     },
     "output_type": "display_data"
    }
   ],
   "source": [
    "print(\"Box Plot:\\n\")\n",
    "df.boxplot() \n",
    "plt.show()"
   ]
  },
  {
   "cell_type": "code",
   "execution_count": 118,
   "metadata": {},
   "outputs": [
    {
     "data": {
      "text/plain": [
       "array([ 0.        ,  0.02002002,  0.04004004,  0.06006006,  0.08008008,\n",
       "        0.1001001 ,  0.12012012,  0.14014014,  0.16016016,  0.18018018,\n",
       "        0.2002002 ,  0.22022022,  0.24024024,  0.26026026,  0.28028028,\n",
       "        0.3003003 ,  0.32032032,  0.34034034,  0.36036036,  0.38038038,\n",
       "        0.4004004 ,  0.42042042,  0.44044044,  0.46046046,  0.48048048,\n",
       "        0.5005005 ,  0.52052052,  0.54054054,  0.56056056,  0.58058058,\n",
       "        0.6006006 ,  0.62062062,  0.64064064,  0.66066066,  0.68068068,\n",
       "        0.7007007 ,  0.72072072,  0.74074074,  0.76076076,  0.78078078,\n",
       "        0.8008008 ,  0.82082082,  0.84084084,  0.86086086,  0.88088088,\n",
       "        0.9009009 ,  0.92092092,  0.94094094,  0.96096096,  0.98098098,\n",
       "        1.001001  ,  1.02102102,  1.04104104,  1.06106106,  1.08108108,\n",
       "        1.1011011 ,  1.12112112,  1.14114114,  1.16116116,  1.18118118,\n",
       "        1.2012012 ,  1.22122122,  1.24124124,  1.26126126,  1.28128128,\n",
       "        1.3013013 ,  1.32132132,  1.34134134,  1.36136136,  1.38138138,\n",
       "        1.4014014 ,  1.42142142,  1.44144144,  1.46146146,  1.48148148,\n",
       "        1.5015015 ,  1.52152152,  1.54154154,  1.56156156,  1.58158158,\n",
       "        1.6016016 ,  1.62162162,  1.64164164,  1.66166166,  1.68168168,\n",
       "        1.7017017 ,  1.72172172,  1.74174174,  1.76176176,  1.78178178,\n",
       "        1.8018018 ,  1.82182182,  1.84184184,  1.86186186,  1.88188188,\n",
       "        1.9019019 ,  1.92192192,  1.94194194,  1.96196196,  1.98198198,\n",
       "        2.002002  ,  2.02202202,  2.04204204,  2.06206206,  2.08208208,\n",
       "        2.1021021 ,  2.12212212,  2.14214214,  2.16216216,  2.18218218,\n",
       "        2.2022022 ,  2.22222222,  2.24224224,  2.26226226,  2.28228228,\n",
       "        2.3023023 ,  2.32232232,  2.34234234,  2.36236236,  2.38238238,\n",
       "        2.4024024 ,  2.42242242,  2.44244244,  2.46246246,  2.48248248,\n",
       "        2.5025025 ,  2.52252252,  2.54254254,  2.56256256,  2.58258258,\n",
       "        2.6026026 ,  2.62262262,  2.64264264,  2.66266266,  2.68268268,\n",
       "        2.7027027 ,  2.72272272,  2.74274274,  2.76276276,  2.78278278,\n",
       "        2.8028028 ,  2.82282282,  2.84284284,  2.86286286,  2.88288288,\n",
       "        2.9029029 ,  2.92292292,  2.94294294,  2.96296296,  2.98298298,\n",
       "        3.003003  ,  3.02302302,  3.04304304,  3.06306306,  3.08308308,\n",
       "        3.1031031 ,  3.12312312,  3.14314314,  3.16316316,  3.18318318,\n",
       "        3.2032032 ,  3.22322322,  3.24324324,  3.26326326,  3.28328328,\n",
       "        3.3033033 ,  3.32332332,  3.34334334,  3.36336336,  3.38338338,\n",
       "        3.4034034 ,  3.42342342,  3.44344344,  3.46346346,  3.48348348,\n",
       "        3.5035035 ,  3.52352352,  3.54354354,  3.56356356,  3.58358358,\n",
       "        3.6036036 ,  3.62362362,  3.64364364,  3.66366366,  3.68368368,\n",
       "        3.7037037 ,  3.72372372,  3.74374374,  3.76376376,  3.78378378,\n",
       "        3.8038038 ,  3.82382382,  3.84384384,  3.86386386,  3.88388388,\n",
       "        3.9039039 ,  3.92392392,  3.94394394,  3.96396396,  3.98398398,\n",
       "        4.004004  ,  4.02402402,  4.04404404,  4.06406406,  4.08408408,\n",
       "        4.1041041 ,  4.12412412,  4.14414414,  4.16416416,  4.18418418,\n",
       "        4.2042042 ,  4.22422422,  4.24424424,  4.26426426,  4.28428428,\n",
       "        4.3043043 ,  4.32432432,  4.34434434,  4.36436436,  4.38438438,\n",
       "        4.4044044 ,  4.42442442,  4.44444444,  4.46446446,  4.48448448,\n",
       "        4.5045045 ,  4.52452452,  4.54454454,  4.56456456,  4.58458458,\n",
       "        4.6046046 ,  4.62462462,  4.64464464,  4.66466466,  4.68468468,\n",
       "        4.7047047 ,  4.72472472,  4.74474474,  4.76476476,  4.78478478,\n",
       "        4.8048048 ,  4.82482482,  4.84484484,  4.86486486,  4.88488488,\n",
       "        4.9049049 ,  4.92492492,  4.94494494,  4.96496496,  4.98498498,\n",
       "        5.00500501,  5.02502503,  5.04504505,  5.06506507,  5.08508509,\n",
       "        5.10510511,  5.12512513,  5.14514515,  5.16516517,  5.18518519,\n",
       "        5.20520521,  5.22522523,  5.24524525,  5.26526527,  5.28528529,\n",
       "        5.30530531,  5.32532533,  5.34534535,  5.36536537,  5.38538539,\n",
       "        5.40540541,  5.42542543,  5.44544545,  5.46546547,  5.48548549,\n",
       "        5.50550551,  5.52552553,  5.54554555,  5.56556557,  5.58558559,\n",
       "        5.60560561,  5.62562563,  5.64564565,  5.66566567,  5.68568569,\n",
       "        5.70570571,  5.72572573,  5.74574575,  5.76576577,  5.78578579,\n",
       "        5.80580581,  5.82582583,  5.84584585,  5.86586587,  5.88588589,\n",
       "        5.90590591,  5.92592593,  5.94594595,  5.96596597,  5.98598599,\n",
       "        6.00600601,  6.02602603,  6.04604605,  6.06606607,  6.08608609,\n",
       "        6.10610611,  6.12612613,  6.14614615,  6.16616617,  6.18618619,\n",
       "        6.20620621,  6.22622623,  6.24624625,  6.26626627,  6.28628629,\n",
       "        6.30630631,  6.32632633,  6.34634635,  6.36636637,  6.38638639,\n",
       "        6.40640641,  6.42642643,  6.44644645,  6.46646647,  6.48648649,\n",
       "        6.50650651,  6.52652653,  6.54654655,  6.56656657,  6.58658659,\n",
       "        6.60660661,  6.62662663,  6.64664665,  6.66666667,  6.68668669,\n",
       "        6.70670671,  6.72672673,  6.74674675,  6.76676677,  6.78678679,\n",
       "        6.80680681,  6.82682683,  6.84684685,  6.86686687,  6.88688689,\n",
       "        6.90690691,  6.92692693,  6.94694695,  6.96696697,  6.98698699,\n",
       "        7.00700701,  7.02702703,  7.04704705,  7.06706707,  7.08708709,\n",
       "        7.10710711,  7.12712713,  7.14714715,  7.16716717,  7.18718719,\n",
       "        7.20720721,  7.22722723,  7.24724725,  7.26726727,  7.28728729,\n",
       "        7.30730731,  7.32732733,  7.34734735,  7.36736737,  7.38738739,\n",
       "        7.40740741,  7.42742743,  7.44744745,  7.46746747,  7.48748749,\n",
       "        7.50750751,  7.52752753,  7.54754755,  7.56756757,  7.58758759,\n",
       "        7.60760761,  7.62762763,  7.64764765,  7.66766767,  7.68768769,\n",
       "        7.70770771,  7.72772773,  7.74774775,  7.76776777,  7.78778779,\n",
       "        7.80780781,  7.82782783,  7.84784785,  7.86786787,  7.88788789,\n",
       "        7.90790791,  7.92792793,  7.94794795,  7.96796797,  7.98798799,\n",
       "        8.00800801,  8.02802803,  8.04804805,  8.06806807,  8.08808809,\n",
       "        8.10810811,  8.12812813,  8.14814815,  8.16816817,  8.18818819,\n",
       "        8.20820821,  8.22822823,  8.24824825,  8.26826827,  8.28828829,\n",
       "        8.30830831,  8.32832833,  8.34834835,  8.36836837,  8.38838839,\n",
       "        8.40840841,  8.42842843,  8.44844845,  8.46846847,  8.48848849,\n",
       "        8.50850851,  8.52852853,  8.54854855,  8.56856857,  8.58858859,\n",
       "        8.60860861,  8.62862863,  8.64864865,  8.66866867,  8.68868869,\n",
       "        8.70870871,  8.72872873,  8.74874875,  8.76876877,  8.78878879,\n",
       "        8.80880881,  8.82882883,  8.84884885,  8.86886887,  8.88888889,\n",
       "        8.90890891,  8.92892893,  8.94894895,  8.96896897,  8.98898899,\n",
       "        9.00900901,  9.02902903,  9.04904905,  9.06906907,  9.08908909,\n",
       "        9.10910911,  9.12912913,  9.14914915,  9.16916917,  9.18918919,\n",
       "        9.20920921,  9.22922923,  9.24924925,  9.26926927,  9.28928929,\n",
       "        9.30930931,  9.32932933,  9.34934935,  9.36936937,  9.38938939,\n",
       "        9.40940941,  9.42942943,  9.44944945,  9.46946947,  9.48948949,\n",
       "        9.50950951,  9.52952953,  9.54954955,  9.56956957,  9.58958959,\n",
       "        9.60960961,  9.62962963,  9.64964965,  9.66966967,  9.68968969,\n",
       "        9.70970971,  9.72972973,  9.74974975,  9.76976977,  9.78978979,\n",
       "        9.80980981,  9.82982983,  9.84984985,  9.86986987,  9.88988989,\n",
       "        9.90990991,  9.92992993,  9.94994995,  9.96996997,  9.98998999,\n",
       "       10.01001001, 10.03003003, 10.05005005, 10.07007007, 10.09009009,\n",
       "       10.11011011, 10.13013013, 10.15015015, 10.17017017, 10.19019019,\n",
       "       10.21021021, 10.23023023, 10.25025025, 10.27027027, 10.29029029,\n",
       "       10.31031031, 10.33033033, 10.35035035, 10.37037037, 10.39039039,\n",
       "       10.41041041, 10.43043043, 10.45045045, 10.47047047, 10.49049049,\n",
       "       10.51051051, 10.53053053, 10.55055055, 10.57057057, 10.59059059,\n",
       "       10.61061061, 10.63063063, 10.65065065, 10.67067067, 10.69069069,\n",
       "       10.71071071, 10.73073073, 10.75075075, 10.77077077, 10.79079079,\n",
       "       10.81081081, 10.83083083, 10.85085085, 10.87087087, 10.89089089,\n",
       "       10.91091091, 10.93093093, 10.95095095, 10.97097097, 10.99099099,\n",
       "       11.01101101, 11.03103103, 11.05105105, 11.07107107, 11.09109109,\n",
       "       11.11111111, 11.13113113, 11.15115115, 11.17117117, 11.19119119,\n",
       "       11.21121121, 11.23123123, 11.25125125, 11.27127127, 11.29129129,\n",
       "       11.31131131, 11.33133133, 11.35135135, 11.37137137, 11.39139139,\n",
       "       11.41141141, 11.43143143, 11.45145145, 11.47147147, 11.49149149,\n",
       "       11.51151151, 11.53153153, 11.55155155, 11.57157157, 11.59159159,\n",
       "       11.61161161, 11.63163163, 11.65165165, 11.67167167, 11.69169169,\n",
       "       11.71171171, 11.73173173, 11.75175175, 11.77177177, 11.79179179,\n",
       "       11.81181181, 11.83183183, 11.85185185, 11.87187187, 11.89189189,\n",
       "       11.91191191, 11.93193193, 11.95195195, 11.97197197, 11.99199199,\n",
       "       12.01201201, 12.03203203, 12.05205205, 12.07207207, 12.09209209,\n",
       "       12.11211211, 12.13213213, 12.15215215, 12.17217217, 12.19219219,\n",
       "       12.21221221, 12.23223223, 12.25225225, 12.27227227, 12.29229229,\n",
       "       12.31231231, 12.33233233, 12.35235235, 12.37237237, 12.39239239,\n",
       "       12.41241241, 12.43243243, 12.45245245, 12.47247247, 12.49249249,\n",
       "       12.51251251, 12.53253253, 12.55255255, 12.57257257, 12.59259259,\n",
       "       12.61261261, 12.63263263, 12.65265265, 12.67267267, 12.69269269,\n",
       "       12.71271271, 12.73273273, 12.75275275, 12.77277277, 12.79279279,\n",
       "       12.81281281, 12.83283283, 12.85285285, 12.87287287, 12.89289289,\n",
       "       12.91291291, 12.93293293, 12.95295295, 12.97297297, 12.99299299,\n",
       "       13.01301301, 13.03303303, 13.05305305, 13.07307307, 13.09309309,\n",
       "       13.11311311, 13.13313313, 13.15315315, 13.17317317, 13.19319319,\n",
       "       13.21321321, 13.23323323, 13.25325325, 13.27327327, 13.29329329,\n",
       "       13.31331331, 13.33333333, 13.35335335, 13.37337337, 13.39339339,\n",
       "       13.41341341, 13.43343343, 13.45345345, 13.47347347, 13.49349349,\n",
       "       13.51351351, 13.53353353, 13.55355355, 13.57357357, 13.59359359,\n",
       "       13.61361361, 13.63363363, 13.65365365, 13.67367367, 13.69369369,\n",
       "       13.71371371, 13.73373373, 13.75375375, 13.77377377, 13.79379379,\n",
       "       13.81381381, 13.83383383, 13.85385385, 13.87387387, 13.89389389,\n",
       "       13.91391391, 13.93393393, 13.95395395, 13.97397397, 13.99399399,\n",
       "       14.01401401, 14.03403403, 14.05405405, 14.07407407, 14.09409409,\n",
       "       14.11411411, 14.13413413, 14.15415415, 14.17417417, 14.19419419,\n",
       "       14.21421421, 14.23423423, 14.25425425, 14.27427427, 14.29429429,\n",
       "       14.31431431, 14.33433433, 14.35435435, 14.37437437, 14.39439439,\n",
       "       14.41441441, 14.43443443, 14.45445445, 14.47447447, 14.49449449,\n",
       "       14.51451451, 14.53453453, 14.55455455, 14.57457457, 14.59459459,\n",
       "       14.61461461, 14.63463463, 14.65465465, 14.67467467, 14.69469469,\n",
       "       14.71471471, 14.73473473, 14.75475475, 14.77477477, 14.79479479,\n",
       "       14.81481481, 14.83483483, 14.85485485, 14.87487487, 14.89489489,\n",
       "       14.91491491, 14.93493493, 14.95495495, 14.97497497, 14.99499499,\n",
       "       15.01501502, 15.03503504, 15.05505506, 15.07507508, 15.0950951 ,\n",
       "       15.11511512, 15.13513514, 15.15515516, 15.17517518, 15.1951952 ,\n",
       "       15.21521522, 15.23523524, 15.25525526, 15.27527528, 15.2952953 ,\n",
       "       15.31531532, 15.33533534, 15.35535536, 15.37537538, 15.3953954 ,\n",
       "       15.41541542, 15.43543544, 15.45545546, 15.47547548, 15.4954955 ,\n",
       "       15.51551552, 15.53553554, 15.55555556, 15.57557558, 15.5955956 ,\n",
       "       15.61561562, 15.63563564, 15.65565566, 15.67567568, 15.6956957 ,\n",
       "       15.71571572, 15.73573574, 15.75575576, 15.77577578, 15.7957958 ,\n",
       "       15.81581582, 15.83583584, 15.85585586, 15.87587588, 15.8958959 ,\n",
       "       15.91591592, 15.93593594, 15.95595596, 15.97597598, 15.995996  ,\n",
       "       16.01601602, 16.03603604, 16.05605606, 16.07607608, 16.0960961 ,\n",
       "       16.11611612, 16.13613614, 16.15615616, 16.17617618, 16.1961962 ,\n",
       "       16.21621622, 16.23623624, 16.25625626, 16.27627628, 16.2962963 ,\n",
       "       16.31631632, 16.33633634, 16.35635636, 16.37637638, 16.3963964 ,\n",
       "       16.41641642, 16.43643644, 16.45645646, 16.47647648, 16.4964965 ,\n",
       "       16.51651652, 16.53653654, 16.55655656, 16.57657658, 16.5965966 ,\n",
       "       16.61661662, 16.63663664, 16.65665666, 16.67667668, 16.6966967 ,\n",
       "       16.71671672, 16.73673674, 16.75675676, 16.77677678, 16.7967968 ,\n",
       "       16.81681682, 16.83683684, 16.85685686, 16.87687688, 16.8968969 ,\n",
       "       16.91691692, 16.93693694, 16.95695696, 16.97697698, 16.996997  ,\n",
       "       17.01701702, 17.03703704, 17.05705706, 17.07707708, 17.0970971 ,\n",
       "       17.11711712, 17.13713714, 17.15715716, 17.17717718, 17.1971972 ,\n",
       "       17.21721722, 17.23723724, 17.25725726, 17.27727728, 17.2972973 ,\n",
       "       17.31731732, 17.33733734, 17.35735736, 17.37737738, 17.3973974 ,\n",
       "       17.41741742, 17.43743744, 17.45745746, 17.47747748, 17.4974975 ,\n",
       "       17.51751752, 17.53753754, 17.55755756, 17.57757758, 17.5975976 ,\n",
       "       17.61761762, 17.63763764, 17.65765766, 17.67767768, 17.6976977 ,\n",
       "       17.71771772, 17.73773774, 17.75775776, 17.77777778, 17.7977978 ,\n",
       "       17.81781782, 17.83783784, 17.85785786, 17.87787788, 17.8978979 ,\n",
       "       17.91791792, 17.93793794, 17.95795796, 17.97797798, 17.997998  ,\n",
       "       18.01801802, 18.03803804, 18.05805806, 18.07807808, 18.0980981 ,\n",
       "       18.11811812, 18.13813814, 18.15815816, 18.17817818, 18.1981982 ,\n",
       "       18.21821822, 18.23823824, 18.25825826, 18.27827828, 18.2982983 ,\n",
       "       18.31831832, 18.33833834, 18.35835836, 18.37837838, 18.3983984 ,\n",
       "       18.41841842, 18.43843844, 18.45845846, 18.47847848, 18.4984985 ,\n",
       "       18.51851852, 18.53853854, 18.55855856, 18.57857858, 18.5985986 ,\n",
       "       18.61861862, 18.63863864, 18.65865866, 18.67867868, 18.6986987 ,\n",
       "       18.71871872, 18.73873874, 18.75875876, 18.77877878, 18.7987988 ,\n",
       "       18.81881882, 18.83883884, 18.85885886, 18.87887888, 18.8988989 ,\n",
       "       18.91891892, 18.93893894, 18.95895896, 18.97897898, 18.998999  ,\n",
       "       19.01901902, 19.03903904, 19.05905906, 19.07907908, 19.0990991 ,\n",
       "       19.11911912, 19.13913914, 19.15915916, 19.17917918, 19.1991992 ,\n",
       "       19.21921922, 19.23923924, 19.25925926, 19.27927928, 19.2992993 ,\n",
       "       19.31931932, 19.33933934, 19.35935936, 19.37937938, 19.3993994 ,\n",
       "       19.41941942, 19.43943944, 19.45945946, 19.47947948, 19.4994995 ,\n",
       "       19.51951952, 19.53953954, 19.55955956, 19.57957958, 19.5995996 ,\n",
       "       19.61961962, 19.63963964, 19.65965966, 19.67967968, 19.6996997 ,\n",
       "       19.71971972, 19.73973974, 19.75975976, 19.77977978, 19.7997998 ,\n",
       "       19.81981982, 19.83983984, 19.85985986, 19.87987988, 19.8998999 ,\n",
       "       19.91991992, 19.93993994, 19.95995996, 19.97997998, 20.        ])"
      ]
     },
     "execution_count": 118,
     "metadata": {},
     "output_type": "execute_result"
    }
   ],
   "source": [
    "x = np.linspace(0, 20, 1000) \n",
    "x"
   ]
  },
  {
   "cell_type": "code",
   "execution_count": 119,
   "metadata": {},
   "outputs": [
    {
     "data": {
      "text/plain": [
       "array([ 0.        ,  0.02001868,  0.04002934,  0.06002396,  0.07999452,\n",
       "        0.09993302,  0.11983146,  0.13968188,  0.15947632,  0.17920684,\n",
       "        0.19886554,  0.21844453,  0.23793597,  0.25733206,  0.276625  ,\n",
       "        0.29580708,  0.3148706 ,  0.33380793,  0.35261147,  0.37127369,\n",
       "        0.3897871 ,  0.4081443 ,  0.42633791,  0.44436066,  0.46220531,\n",
       "        0.47986471,  0.49733179,  0.51459954,  0.53166105,  0.54850948,\n",
       "        0.56513807,  0.58154016,  0.59770917,  0.61363863,  0.62932216,\n",
       "        0.64475345,  0.65992634,  0.67483474,  0.68947267,  0.70383427,\n",
       "        0.71791378,  0.73170556,  0.74520409,  0.75840394,  0.77129983,\n",
       "        0.7838866 ,  0.7961592 ,  0.8081127 ,  0.81974232,  0.8310434 ,\n",
       "        0.84201141,  0.85264195,  0.86293076,  0.87287371,  0.88246684,\n",
       "        0.89170627,  0.90058833,  0.90910944,  0.91726619,  0.92505531,\n",
       "        0.93247368,  0.93951832,  0.94618642,  0.9524753 ,  0.95838244,\n",
       "        0.96390547,  0.96904217,  0.9737905 ,  0.97814855,  0.98211456,\n",
       "        0.98568695,  0.9888643 ,  0.99164532,  0.9940289 ,  0.99601408,\n",
       "        0.99760007,  0.99878624,  0.99957211,  0.99995736,  0.99994184,\n",
       "        0.99952556,  0.99870867,  0.99749152,  0.99587459,  0.99385852,\n",
       "        0.99144412,  0.98863237,  0.98542438,  0.98182145,  0.97782501,\n",
       "        0.97343668,  0.9686582 ,  0.9634915 ,  0.95793864,  0.95200185,\n",
       "        0.94568351,  0.93898615,  0.93191246,  0.92446527,  0.91664757,\n",
       "        0.90846248,  0.89991329,  0.89100343,  0.88173646,  0.87211611,\n",
       "        0.86214622,  0.8518308 ,  0.84117397,  0.83018001,  0.81885332,\n",
       "        0.80719845,  0.79522006,  0.78292295,  0.77031206,  0.75739244,\n",
       "        0.74416927,  0.73064784,  0.71683358,  0.70273201,  0.68834881,\n",
       "        0.67368972,  0.65876062,  0.6435675 ,  0.62811645,  0.61241365,\n",
       "        0.59646541,  0.58027811,  0.56385824,  0.54721239,  0.53034722,\n",
       "        0.51326949,  0.49598605,  0.47850382,  0.46082982,  0.44297112,\n",
       "        0.42493488,  0.40672834,  0.38835878,  0.36983358,  0.35116015,\n",
       "        0.33234597,  0.3133986 ,  0.29432562,  0.27513468,  0.25583347,\n",
       "        0.23642973,  0.21693122,  0.19734578,  0.17768124,  0.15794548,\n",
       "        0.13814643,  0.118292  ,  0.09839017,  0.0784489 ,  0.05847619,\n",
       "        0.03848005,  0.01846848, -0.00155049, -0.02156884, -0.04157854,\n",
       "       -0.06157158, -0.08153994, -0.10147562, -0.12137064, -0.141217  ,\n",
       "       -0.16100677, -0.18073201, -0.20038482, -0.21995731, -0.23944165,\n",
       "       -0.25883002, -0.27811466, -0.29728783, -0.31634185, -0.33526908,\n",
       "       -0.35406195, -0.37271291, -0.39121449, -0.40955928, -0.42773992,\n",
       "       -0.44574912, -0.46357968, -0.48122444, -0.49867633, -0.51592836,\n",
       "       -0.53297361, -0.54980525, -0.56641654, -0.58280081, -0.5989515 ,\n",
       "       -0.61486214, -0.63052635, -0.64593786, -0.66109048, -0.67597814,\n",
       "       -0.69059488, -0.70493484, -0.71899227, -0.73276153, -0.74623711,\n",
       "       -0.75941361, -0.77228575, -0.78484836, -0.79709642, -0.80902501,\n",
       "       -0.82062935, -0.83190479, -0.84284682, -0.85345104, -0.86371322,\n",
       "       -0.87362922, -0.88319509, -0.89240698, -0.9012612 , -0.90975421,\n",
       "       -0.91788261, -0.92564312, -0.93303265, -0.94004823, -0.94668706,\n",
       "       -0.95294646, -0.95882393, -0.96431712, -0.96942382, -0.97414198,\n",
       "       -0.97846973, -0.98240531, -0.98594716, -0.98909385, -0.99184413,\n",
       "       -0.99419689, -0.99615118, -0.99770623, -0.99886141, -0.99961626,\n",
       "       -0.99997048, -0.99992392, -0.9994766 , -0.9986287 , -0.99738057,\n",
       "       -0.9957327 , -0.99368575, -0.99124054, -0.98839806, -0.98515943,\n",
       "       -0.98152597, -0.97749913, -0.97308051, -0.9682719 , -0.96307521,\n",
       "       -0.95749254, -0.95152611, -0.94517833, -0.93845173, -0.93134901,\n",
       "       -0.92387301, -0.91602674, -0.90781333, -0.89923609, -0.89029844,\n",
       "       -0.88100397, -0.87135641, -0.86135962, -0.8510176 , -0.84033451,\n",
       "       -0.82931462, -0.81796235, -0.80628225, -0.79427901, -0.78195742,\n",
       "       -0.76932244, -0.75637913, -0.74313266, -0.72958836, -0.71575164,\n",
       "       -0.70162807, -0.68722329, -0.67254307, -0.65759331, -0.64238   ,\n",
       "       -0.62690923, -0.6111872 , -0.59522021, -0.57901466, -0.56257706,\n",
       "       -0.54591398, -0.5290321 , -0.5119382 , -0.49463911, -0.47714179,\n",
       "       -0.45945322, -0.44158052, -0.42353083, -0.4053114 , -0.38692953,\n",
       "       -0.36839258, -0.34970798, -0.33088322, -0.31192585, -0.29284346,\n",
       "       -0.2736437 , -0.25433428, -0.23492291, -0.2154174 , -0.19582554,\n",
       "       -0.1761552 , -0.15641427, -0.13661064, -0.11675226, -0.09684708,\n",
       "       -0.0769031 , -0.05692829, -0.03693066, -0.01691823,  0.00310097,\n",
       "        0.02311894,  0.04312764,  0.06311905,  0.08308517,  0.10301799,\n",
       "        0.12290952,  0.14275178,  0.16253684,  0.18225675,  0.20190362,\n",
       "        0.22146956,  0.24094675,  0.26032736,  0.27960364,  0.29876786,\n",
       "        0.31781233,  0.33672943,  0.35551157,  0.37415123,  0.39264093,\n",
       "        0.41097327,  0.42914089,  0.44713652,  0.46495294,  0.48258302,\n",
       "        0.50001968,  0.51725594,  0.53428489,  0.5510997 ,  0.56769364,\n",
       "        0.58406006,  0.60019239,  0.61608417,  0.63172904,  0.64712071,\n",
       "        0.66225303,  0.67711992,  0.69171543,  0.70603371,  0.72006902,\n",
       "        0.73381574,  0.74726835,  0.76042146,  0.77326981,  0.78580824,\n",
       "        0.79803173,  0.80993537,  0.82151441,  0.83276419,  0.84368021,\n",
       "        0.85425809,  0.8644936 ,  0.87438263,  0.88392121,  0.89310553,\n",
       "        0.90193191,  0.9103968 ,  0.91849682,  0.92622871,  0.93358938,\n",
       "        0.94057589,  0.94718542,  0.95341533,  0.95926312,  0.96472645,\n",
       "        0.96980313,  0.97449113,  0.97878856,  0.9826937 ,  0.986205  ,\n",
       "        0.98932103,  0.99204056,  0.99436249,  0.99628589,  0.99780999,\n",
       "        0.99893418,  0.99965801,  0.99998119,  0.99990359,  0.99942524,\n",
       "        0.99854633,  0.99726722,  0.99558841,  0.99351059,  0.99103458,\n",
       "        0.98816137,  0.98489212,  0.98122814,  0.97717089,  0.97272201,\n",
       "        0.96788327,  0.96265661,  0.95704414,  0.95104809,  0.94467087,\n",
       "        0.93791504,  0.93078331,  0.92327853,  0.91540371,  0.90716201,\n",
       "        0.89855673,  0.88959131,  0.88026936,  0.87059461,  0.86057094,\n",
       "        0.85020236,  0.83949303,  0.82844724,  0.81706941,  0.80536412,\n",
       "        0.79333605,  0.78099002,  0.76833097,  0.75536399,  0.74209427,\n",
       "        0.72852712,  0.71466799,  0.70052243,  0.68609611,  0.67139481,\n",
       "        0.65642443,  0.64119095,  0.6257005 ,  0.60995927,  0.59397358,\n",
       "        0.57774983,  0.56129452,  0.54461426,  0.52771572,  0.51060568,\n",
       "        0.49329099,  0.4757786 ,  0.45807552,  0.44018886,  0.42212577,\n",
       "        0.40389349,  0.38549934,  0.36695069,  0.34825497,  0.32941967,\n",
       "        0.31045234,  0.29136059,  0.27215207,  0.25283447,  0.23341553,\n",
       "        0.21390305,  0.19430484,  0.17462875,  0.15488267,  0.13507452,\n",
       "        0.11521223,  0.09530377,  0.07535711,  0.05538024,  0.03538119,\n",
       "        0.01536795, -0.00465145, -0.02466899, -0.04467663, -0.06466637,\n",
       "       -0.0846302 , -0.1045601 , -0.1244481 , -0.14428622, -0.16406652,\n",
       "       -0.18378105, -0.20342193, -0.22298128, -0.24245127, -0.26182408,\n",
       "       -0.28109195, -0.30024717, -0.31928205, -0.33818897, -0.35696034,\n",
       "       -0.37558865, -0.39406643, -0.41238627, -0.43054084, -0.44852284,\n",
       "       -0.46632509, -0.48394043, -0.50136182, -0.51858227, -0.53559488,\n",
       "       -0.55239283, -0.56896939, -0.58531791, -0.60143184, -0.61730472,\n",
       "       -0.6329302 , -0.64830201, -0.66341398, -0.67826007, -0.69283431,\n",
       "       -0.70713088, -0.72114404, -0.73486818, -0.74829778, -0.76142748,\n",
       "       -0.77425201, -0.78676623, -0.79896512, -0.81084379, -0.82239749,\n",
       "       -0.83362158, -0.84451157, -0.85506308, -0.8652719 , -0.87513393,\n",
       "       -0.88464521, -0.89380194, -0.90260045, -0.9110372 , -0.91910882,\n",
       "       -0.92681207, -0.93414387, -0.94110128, -0.9476815 , -0.9538819 ,\n",
       "       -0.9597    , -0.96513346, -0.97018011, -0.97483792, -0.97910503,\n",
       "       -0.98297973, -0.98646046, -0.98954583, -0.9922346 , -0.9945257 ,\n",
       "       -0.9964182 , -0.99791135, -0.99900454, -0.99969735, -0.9999895 ,\n",
       "       -0.99988086, -0.99937148, -0.99846156, -0.99715147, -0.99544174,\n",
       "       -0.99333304, -0.99082623, -0.98792231, -0.98462244, -0.98092795,\n",
       "       -0.97684031, -0.97236117, -0.96749231, -0.9622357 , -0.95659343,\n",
       "       -0.95056778, -0.94416115, -0.93737611, -0.93021538, -0.92268183,\n",
       "       -0.91477848, -0.9065085 , -0.8978752 , -0.88888205, -0.87953264,\n",
       "       -0.86983072, -0.85978019, -0.84938507, -0.83864953, -0.82757786,\n",
       "       -0.81617451, -0.80444405, -0.79239118, -0.78002073, -0.76733765,\n",
       "       -0.75434704, -0.74105409, -0.72746414, -0.71358262, -0.69941512,\n",
       "       -0.68496729, -0.67024494, -0.65525396, -0.64000037, -0.62449027,\n",
       "       -0.60872988, -0.59272552, -0.5764836 , -0.56001064, -0.54331323,\n",
       "       -0.52639807, -0.50927193, -0.49194168, -0.47441427, -0.45669672,\n",
       "       -0.43879613, -0.42071968, -0.40247461, -0.38406823, -0.36550792,\n",
       "       -0.34680112, -0.32795533, -0.30897809, -0.28987702, -0.27065978,\n",
       "       -0.25133405, -0.23190759, -0.21238819, -0.19278367, -0.17310187,\n",
       "       -0.15335071, -0.13353808, -0.11367193, -0.09376022, -0.07381094,\n",
       "       -0.05383207, -0.03383162, -0.01381762,  0.00620192,  0.02621897,\n",
       "        0.04622552,  0.06621354,  0.08617502,  0.10610197,  0.12598639,\n",
       "        0.14582031,  0.1655958 ,  0.18530491,  0.20493976,  0.22449247,\n",
       "        0.2439552 ,  0.26332016,  0.28257959,  0.30172576,  0.320751  ,\n",
       "        0.33964769,  0.35840826,  0.37702517,  0.39549099,  0.41379829,\n",
       "        0.43193975,  0.44990809,  0.46769611,  0.48529669,  0.50270276,\n",
       "        0.51990736,  0.53690359,  0.55368463,  0.57024376,  0.58657434,\n",
       "        0.60266984,  0.61852379,  0.63412984,  0.64948174,  0.66457334,\n",
       "        0.67939858,  0.69395153,  0.70822636,  0.72221733,  0.73591885,\n",
       "        0.74932542,  0.76243167,  0.77523235,  0.78772232,  0.79989658,\n",
       "        0.81175026,  0.8232786 ,  0.83447697,  0.8453409 ,  0.85586602,\n",
       "        0.86604813,  0.87588313,  0.88536709,  0.8944962 ,  0.90326682,\n",
       "        0.91167541,  0.91971861,  0.92739321,  0.93469611,  0.9416244 ,\n",
       "        0.9481753 ,  0.95434618,  0.96013458,  0.96553816,  0.97055476,\n",
       "        0.97518238,  0.97941916,  0.9832634 ,  0.98671355,  0.98976825,\n",
       "        0.99242626,  0.99468651,  0.99654811,  0.99801031,  0.99907251,\n",
       "        0.9997343 ,  0.9999954 ,  0.99985572,  0.99931531,  0.99837439,\n",
       "        0.99703333,  0.99529267,  0.99315311,  0.9906155 ,  0.98768087,\n",
       "        0.98435039,  0.9806254 ,  0.97650738,  0.97199799,  0.96709903,\n",
       "        0.96181247,  0.95614043,  0.95008518,  0.94364915,  0.93683491,\n",
       "        0.92964521,  0.92208291,  0.91415105,  0.90585281,  0.89719152,\n",
       "        0.88817064,  0.8787938 ,  0.86906474,  0.85898738,  0.84856574,\n",
       "        0.83780401,  0.8267065 ,  0.81527765,  0.80352205,  0.79144441,\n",
       "        0.77904957,  0.76634249,  0.75332827,  0.74001213,  0.7263994 ,\n",
       "        0.71249554,  0.69830612,  0.68383682,  0.66909345,  0.65408192,\n",
       "        0.63880824,  0.62327853,  0.60749902,  0.59147604,  0.57521599,\n",
       "        0.55872541,  0.5420109 ,  0.52507915,  0.50793696,  0.49059119,\n",
       "        0.47304881,  0.45531682,  0.43740236,  0.41931259,  0.40105476,\n",
       "        0.38263619,  0.36406427,  0.34534644,  0.3264902 ,  0.3075031 ,\n",
       "        0.28839276,  0.26916683,  0.24983303,  0.2303991 ,  0.21087282,\n",
       "        0.19126203,  0.17157458,  0.15181837,  0.13200132,  0.11213135,\n",
       "        0.09221645,  0.07226459,  0.05228376,  0.03228198,  0.01226726,\n",
       "       -0.00775237, -0.0277689 , -0.0477743 , -0.06776055, -0.08771964,\n",
       "       -0.10764358, -0.12752437, -0.14735405, -0.16712468, -0.18682832,\n",
       "       -0.20645709, -0.22600311, -0.24545855, -0.26481562, -0.28406655,\n",
       "       -0.30320363, -0.32221918, -0.3411056 , -0.35985531, -0.37846079,\n",
       "       -0.39691459, -0.41520931, -0.43333762, -0.45129225, -0.46906601,\n",
       "       -0.48665177, -0.50404249, -0.5212312 , -0.538211  , -0.5549751 ,\n",
       "       -0.57151676, -0.58782937, -0.60390639, -0.61974137, -0.63532796,\n",
       "       -0.65065992, -0.6657311 , -0.68053547, -0.69506709, -0.70932013,\n",
       "       -0.72328888, -0.73696775, -0.75035126, -0.76343403, -0.77621082,\n",
       "       -0.78867652, -0.80082613, -0.81265478, -0.82415772, -0.83533035,\n",
       "       -0.8461682 , -0.8566669 , -0.86682227, -0.87663022, -0.88608684,\n",
       "       -0.89518831, -0.90393101, -0.91231143, -0.9203262 , -0.92797211,\n",
       "       -0.93524611, -0.94214527, -0.94866683, -0.95480817, -0.96056684,\n",
       "       -0.96594053, -0.97092708, -0.97552449, -0.97973093, -0.9835447 ,\n",
       "       -0.98696428, -0.98998829, -0.99261553, -0.99484494, -0.99667563,\n",
       "       -0.99810687, -0.99913807, -0.99976883, -0.9999989 , -0.99982818,\n",
       "       -0.99925674, -0.99828481, -0.99691279, -0.99514121, -0.99297079,\n",
       "       -0.9904024 , -0.98743706, -0.98407598, -0.98032049, -0.9761721 ,\n",
       "       -0.97163247, -0.96670342, -0.96138693, -0.95568513, -0.9496003 ,\n",
       "       -0.94313489, -0.93629147, -0.9290728 , -0.92148177, -0.91352143,\n",
       "       -0.90519495, -0.89650568, -0.88745711, -0.87805285, -0.86829668,\n",
       "       -0.8581925 , -0.84774438, -0.83695648, -0.82583315, -0.81437883,\n",
       "       -0.80259812, -0.79049574, -0.77807653, -0.76534548, -0.7523077 ,\n",
       "       -0.73896839, -0.72533292, -0.71140674, -0.69719544, -0.68270471,\n",
       "       -0.66794036, -0.65290831, -0.63761458, -0.6220653 , -0.60626671,\n",
       "       -0.59022513, -0.573947  , -0.55743884, -0.54070726, -0.52375897,\n",
       "       -0.50660077, -0.48923952, -0.4716822 , -0.45393583, -0.43600753,\n",
       "       -0.41790448, -0.39963395, -0.38120324, -0.36261975, -0.34389093,\n",
       "       -0.32502428, -0.30602737, -0.2869078 , -0.26767324, -0.24833141,\n",
       "       -0.22889004, -0.20935694, -0.18973993, -0.17004688, -0.15028567,\n",
       "       -0.13046424, -0.11059051, -0.09067246, -0.07071807, -0.05073533,\n",
       "       -0.03073226, -0.01071688,  0.0093028 ,  0.02931876,  0.04932296,\n",
       "        0.06930739,  0.08926405,  0.10918493,  0.12906205,  0.14888744,\n",
       "        0.16865316,  0.18835129,  0.20797393,  0.22751321,  0.24696131,\n",
       "        0.26631043,  0.28555282,  0.30468076,  0.32368659,  0.34256269,\n",
       "        0.36130149,  0.37989549,  0.39833724,  0.41661933,  0.43473445,\n",
       "        0.45267533,  0.47043478,  0.48800569,  0.50538101,  0.52255378,\n",
       "        0.53951712,  0.55626423,  0.57278839,  0.58908299,  0.60514149,\n",
       "        0.62095745,  0.63652455,  0.65183653,  0.66688726,  0.68167072,\n",
       "        0.69618097,  0.71041219,  0.7243587 ,  0.73801489,  0.75137529,\n",
       "        0.76443455,  0.77718743,  0.78962883,  0.80175375,  0.81355734,\n",
       "        0.82503487,  0.83618173,  0.84699346,  0.85746572,  0.86759433,\n",
       "        0.87737521,  0.88680445,  0.89587827,  0.90459304,  0.91294525])"
      ]
     },
     "execution_count": 119,
     "metadata": {},
     "output_type": "execute_result"
    }
   ],
   "source": [
    "y=np.sin(x)\n",
    "y\n"
   ]
  },
  {
   "cell_type": "code",
   "execution_count": 120,
   "metadata": {},
   "outputs": [
    {
     "data": {
      "image/png": "[encoded data removed]",
      "text/plain": [
       "<Figure size 432x288 with 1 Axes>"
      ]
     },
     "metadata": {
      "needs_background": "light"
     },
     "output_type": "display_data"
    }
   ],
   "source": [
    "plt.plot(x,y,label='Sample Label')\n",
    "plt.title('Sample Plot Title') \n",
    "plt.xlabel('x axis label')\n",
    "plt.ylabel('y axis label')\n",
    "plt.grid(True) \n",
    "\n",
    "plt.figtext(0.5, 0.01, 'Fig1: Sinusoidal', ha='right', va='bottom')\n",
    "plt.legend(loc='best', framealpha=0.5, prop={'size':'small'})\n",
    "plt.tight_layout(pad=1)"
   ]
  },
  {
   "cell_type": "code",
   "execution_count": null,
   "metadata": {},
   "outputs": [],
   "source": []
  },
  {
   "cell_type": "code",
   "execution_count": null,
   "metadata": {},
   "outputs": [],
   "source": []
  }
 ],
 "metadata": {
  "kernelspec": {
   "display_name": "Python 3",
   "language": "python",
   "name": "python3"
  },
  "language_info": {
   "codemirror_mode": {
    "name": "ipython",
    "version": 3
   },
   "file_extension": ".py",
   "mimetype": "text/x-python",
   "name": "python",
   "nbconvert_exporter": "python",
   "pygments_lexer": "ipython3",
   "version": "3.8.3"
  }
 },
 "nbformat": 4,
 "nbformat_minor": 2
}
